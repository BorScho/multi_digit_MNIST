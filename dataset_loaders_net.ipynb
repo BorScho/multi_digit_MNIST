{
 "cells": [
  {
   "cell_type": "code",
   "execution_count": 1,
   "metadata": {},
   "outputs": [],
   "source": [
    "import torch\n",
    "from torch.utils.data import Dataset\n",
    "import os"
   ]
  },
  {
   "cell_type": "markdown",
   "metadata": {},
   "source": [
    "#### Define the Dataset for Multi-digit-MNIST Images ####\n",
    "<br>\n",
    "We have to generate data in a train and test set. <br>\n",
    "This can be done by the functions in \"makeMultiDigits.ipynb\" <br>\n",
    "<br>\n",
    "Or can we split data into train and test? <br>\n",
    "Not sure, because we have (muliti-digit image, label, merge-coordinates) as \"data-label\" tripletts, not pairs. <br>\n",
    "Of course (img, (lab, mc)) would be feasible."
   ]
  },
  {
   "cell_type": "code",
   "execution_count": 3,
   "metadata": {},
   "outputs": [],
   "source": [
    "class MultiDigitMNISTDataset(Dataset):\n",
    "    def __init__(self, source_dir, img_transform=None, label_transform=None, merge_point_transform=None):\n",
    "        self.source_dir = source_dir\n",
    "        self.img_transform = img_transform\n",
    "        self.label_transform = label_transform\n",
    "        self.merge_point_transform = merge_point_transform\n",
    "        \n",
    "        self.data_record_entries = []\n",
    "        cwd = os.getcwd()\n",
    "        self.source_path = os.path.join(cwd, self.source_dir)\n",
    "        with os.scandir(self.source_path) as it:\n",
    "            for entry in it:\n",
    "                if entry.is_file() and entry.name.endswith(\".pt\"):\n",
    "                    self.data_record_entries.append(entry)\n",
    "        \n",
    "        self.data_records = []\n",
    "    \n",
    "    def __len__(self):\n",
    "        return len(self.data_record_entries)\n",
    "    \n",
    "    def __getitem__(self, idx):\n",
    "        data_record = torch.load(os.path.join(self.source_path, self.data_record_entries[idx].name))\n",
    "        multi_img = data_record[\"multi_img\"]\n",
    "        multi_img_label = data_record[\"multi_img_label\"]\n",
    "        merge_points = data_record[\"merge_points\"]\n",
    "        if self.img_transform:\n",
    "            multi_img = self.img_transform(multi_img)\n",
    "        if self.label_transform:\n",
    "            multi_img_label = self.label_transform(multi_img_label) \n",
    "        if self.merge_point_transform:\n",
    "            merge_points = self.merge_point_transform(merge_points)\n",
    "        \n",
    "        return multi_img, multi_img_label, merge_points\n",
    "\n",
    "\n"
   ]
  },
  {
   "cell_type": "markdown",
   "metadata": {},
   "source": [
    "### Build the Neural Net to learn finding the merge-points ###\n",
    "<br>\n",
    "At first we presume, that we know the number of merge-points and ask only for their x-coordinate\n",
    "<br>\n",
    "These coordinates will be used to split the image of the multi-digit number into single-digit numbers, <br>\n",
    "leaving us with an standard MNIST-like problem for which there are good solutions available.\n"
   ]
  },
  {
   "cell_type": "code",
   "execution_count": 64,
   "metadata": {},
   "outputs": [],
   "source": [
    "import torch.nn.functional as F\n",
    "\n",
    "class MultiDigitMNISTNet(torch.nn.Module):\n",
    "\n",
    "    def __init__(self, nof_digits):\n",
    "        super(MultiDigitMNISTNet, self).__init__()\n",
    "        # input MNIST images for nof_digits digit-image: 1 x nof_digitsx28 x nof_digitsx28\n",
    "        self.numChannels1 = 8\n",
    "        self.numChannels2 = 32\n",
    "        self.conv1 = torch.nn.Conv2d(1, self.numChannels1, 5, padding=2, bias=False) # <- out: 8 x (nof_digits x 28) x 28  # <- max-pooling out: 8 x (nof_digits x 14) x 14\n",
    "        self.conv1_batchnorm = torch.nn.BatchNorm2d(num_features = self.numChannels1)\n",
    "        \n",
    "        # use normal initialization for conv1:\n",
    "        torch.nn.init.normal_(self.conv1.weight)\n",
    "        torch.nn.init.constant_(self.conv1_batchnorm.weight, 0.5)\n",
    "        torch.nn.init.zeros_(self.conv1_batchnorm.bias)\n",
    "        \n",
    "        self.conv2 = torch.nn.Conv2d(self.numChannels1, self.numChannels2, 3, padding=1, bias=False) #<- out: 16 x (nof_digits x 14) x 14\n",
    "        self.conv2_batchnorm = torch.nn.BatchNorm2d(num_features = self.numChannels2)\n",
    "\n",
    "         # use normal initialization for conv2:\n",
    "        torch.nn.init.normal_(self.conv2.weight)\n",
    "        torch.nn.init.constant_(self.conv2_batchnorm.weight, 0.5)\n",
    "        torch.nn.init.zeros_(self.conv2_batchnorm.bias)\n",
    "\n",
    "        self.fc1 = torch.nn.Linear(self.numChannels2 * (nof_digits * 7) * 7, 256)\n",
    "        self.fc2 = torch.nn.Linear(256, nof_digits)\n",
    "    \n",
    "    def forward(self, x):\n",
    "        x = self.conv1_batchnorm(self.conv1(x))\n",
    "        x = F.max_pool2d(F.relu(x), (2,2))\n",
    "        x = self.conv2_batchnorm(self.conv2(x))\n",
    "        x = F.max_pool2d(F.relu(x), (2,2))\n",
    "        x = torch.flatten(x, start_dim=1)\n",
    "        x = F.relu(self.fc1(x))\n",
    "        x = F.relu(self.fc2(x))\n",
    "        return x"
   ]
  },
  {
   "cell_type": "code",
   "execution_count": 66,
   "metadata": {},
   "outputs": [
    {
     "name": "stdout",
     "output_type": "stream",
     "text": [
      "torch.Size([2, 1, 28, 112])\n",
      "Model-Output: tensor([[0.0000, 0.0000, 0.0000, 0.0000],\n",
      "        [0.0000, 0.0000, 0.0243, 0.0000]], grad_fn=<ReluBackward0>)\n",
      "model.conv1 : tensor([[-1.0125, -0.7907,  0.6885, -0.1336, -0.5446],\n",
      "        [-0.8013, -0.6730,  1.4326, -1.4076,  1.6180],\n",
      "        [-0.9377, -1.8944,  0.4382, -0.1660,  1.1149],\n",
      "        [ 0.9537, -0.8434, -0.0946, -1.8602, -1.2214],\n",
      "        [-0.5398, -0.2956,  0.1690,  0.5774,  0.8660]],\n",
      "       grad_fn=<SelectBackward0>)\n"
     ]
    }
   ],
   "source": [
    "# check of network: does it produce any output without Python error?\n",
    "\n",
    "pseudo_img = torch.rand(2, 1, 28, 112)\n",
    "print(pseudo_img.shape)\n",
    "\n",
    "model = MultiDigitMNISTNet(nof_digits = 4)\n",
    "\n",
    "# model output on random input-tensor:\n",
    "print(f\"Model-Output: {model(pseudo_img)}\")\n",
    "\n",
    "# have a look at the initialization:\n",
    "print(f\"model.conv1 : {model.conv1.weight[0][0]}\")"
   ]
  },
  {
   "cell_type": "code",
   "execution_count": 54,
   "metadata": {},
   "outputs": [],
   "source": [
    "import datetime\n",
    "\n",
    "def training(epochs, train_loader, model, loss_fn, optimizer, device, show_progress= False, L2_regularization=False, L1_regularization=False, L2_lambda=0.001, L1_lambda=0.001):\n",
    "    l2_norm = 0\n",
    "    l1_norm = 0\n",
    "    model.train()\n",
    "    for epoch in range(1, epochs + 1):\n",
    "        loss_train = 0.0\n",
    "        for imgs, labs, mpoints in train_loader:\n",
    "            imgs = imgs.to(device)\n",
    "            mpoints = mpoints.to(device)\n",
    "            \n",
    "            y_mpoints = model(imgs)\n",
    "            loss = loss_fn(y_mpoints, mpoints)\n",
    "            \n",
    "            if(L2_regularization):\n",
    "                l2_norm = sum(p.pow(2.0).sum() for p in model.parameters())\n",
    "                loss = loss + L2_lambda * l2_norm\n",
    "            \n",
    "            if(L1_regularization):\n",
    "                l1_norm = sum(p.abs().sum() for p in model.parameters())\n",
    "                loss = loss + L1_lambda * l1_norm\n",
    "\n",
    "            optimizer.zero_grad()\n",
    "            loss.backward()\n",
    "            optimizer.step()\n",
    "\n",
    "            loss_train += loss.item()\n",
    "\n",
    "        if(epoch == 1 or epoch%10 == 0):\n",
    "            print(F\"len train loader: {len(train_loader)}\")\n",
    "            print(f\"{datetime.datetime.now()} Epoch {epoch} Training loss {loss_train/ len(train_loader)}\")\n",
    "            if(show_progress): # prints out some weights to see if anything happens at all:\n",
    "                print(model.conv1.weight[0][0:10])\n",
    "\n",
    "\n",
    "def validate(model, train_loader, val_loader, loss_fn):\n",
    "    model.eval()\n",
    "    for name, loader in [(\"train\", train_loader), (\"val\", val_loader)]:\n",
    "        loss = 0\n",
    "        for imgs, _ , mpoints in loader:\n",
    "            with torch.no_grad():\n",
    "                y_mpoints = model(imgs)\n",
    "                loss += loss_fn(y_mpoints, mpoints).item()\n",
    "        \n",
    "        print(f\"Loss {name}: {loss/len(loader)}\")\n",
    "\n"
   ]
  },
  {
   "cell_type": "code",
   "execution_count": 67,
   "metadata": {},
   "outputs": [
    {
     "name": "stdout",
     "output_type": "stream",
     "text": [
      "Using device cpu\n",
      "len train loader: 29\n",
      "2022-01-20 20:58:38.257901 Epoch 1 Training loss 329.94758658573545\n",
      "len train loader: 29\n",
      "2022-01-20 20:59:03.308582 Epoch 10 Training loss 46.07372139240133\n",
      "len train loader: 29\n",
      "2022-01-20 20:59:30.844762 Epoch 20 Training loss 36.33212898517477\n",
      "len train loader: 29\n",
      "2022-01-20 20:59:58.693238 Epoch 30 Training loss 30.7021242996742\n",
      "Training finished\n"
     ]
    }
   ],
   "source": [
    "from torch.utils.data import DataLoader\n",
    "\n",
    "device = torch.device(\"cuda\") if torch.cuda.is_available() else torch.device(\"cpu\")\n",
    "print(f\"Using device {device}\")\n",
    "\n",
    "BATCH_SIZE = 32\n",
    "NOF_DIGITS = 2\n",
    "TRAIN_DIR = \"Mnist2_train\"\n",
    "VAL_DIR = \"Mnist2_val\"\n",
    "\n",
    "TRAIN_DS = MultiDigitMNISTDataset(source_dir=TRAIN_DIR)\n",
    "TRAIN_DL = DataLoader(TRAIN_DS, batch_size=BATCH_SIZE)\n",
    "\n",
    "VAL_DS = MultiDigitMNISTDataset(source_dir=VAL_DIR)\n",
    "VAL_DL = DataLoader(VAL_DS, batch_size=BATCH_SIZE)\n",
    "\n",
    "# start with a new model each time:\n",
    "model = None\n",
    "model = MultiDigitMNISTNet(nof_digits= NOF_DIGITS).to(device=device)\n",
    "\n",
    "# using weight_decay in SGD optimizer invoces L2 regularization\n",
    "#  - seems to be necessary since our wheigths and losses are extraordingly high with SGD- optimizer:\n",
    "# optimizer = torch.optim.SGD(model.parameters(), lr=0.05, momentum=0.9, weight_decay=1e-5) # this optimizer is divergent most of the time leading to nan-size loss!\n",
    "\n",
    "optimizer = torch.optim.Adam(model.parameters())\n",
    "loss_fn = torch.nn.MSELoss()\n",
    "\n",
    "training(\n",
    "    epochs = 30,\n",
    "    train_loader = TRAIN_DL,\n",
    "    model = model,\n",
    "    loss_fn = loss_fn,\n",
    "    optimizer = optimizer,\n",
    "    device = device,\n",
    "    show_progress = False,\n",
    "    L2_regularization = True,\n",
    "    L1_regularization = True,\n",
    "    L1_lambda=0.01    \n",
    ")\n",
    "\n",
    "print(\"Training finished\")\n"
   ]
  },
  {
   "cell_type": "code",
   "execution_count": 68,
   "metadata": {},
   "outputs": [
    {
     "name": "stdout",
     "output_type": "stream",
     "text": [
      "Loss train: 5.196927629668137\n",
      "Loss val: 7.262643541608538\n",
      "Validation finished.\n"
     ]
    }
   ],
   "source": [
    "validate(\n",
    "    model = model,\n",
    "    train_loader = TRAIN_DL,\n",
    "    val_loader = VAL_DL, \n",
    "    loss_fn = loss_fn\n",
    ")\n",
    "\n",
    "print(\"Validation finished.\")"
   ]
  },
  {
   "cell_type": "code",
   "execution_count": 69,
   "metadata": {},
   "outputs": [],
   "source": [
    "# check the points, where the images are merged (\"merge_points\"), by drawing a grey vertical line:\n",
    "\n",
    "from PIL import ImageDraw\n",
    "import torchvision.transforms as TT\n",
    "import matplotlib.pyplot as plt\n",
    "import numpy as np\n",
    "\n",
    "def display_merge_lines(image_record, model):\n",
    "    t_img = image_record[\"multi_img\"]\n",
    "    y_mps = model(t_img.unsqueeze(0)).detach().numpy() # unsqueeze to make it a batch\n",
    "    img = TT.ToPILImage()(t_img)\n",
    "    plt.title(mr[\"multi_img_label\"])\n",
    "    merge_points = mr[\"merge_points\"]\n",
    "    \n",
    "    draw = ImageDraw.Draw(img)\n",
    "    for ymp in [mp for mp in np.nditer(y_mps)]:\n",
    "        draw.line([(ymp, 0), (ymp, 28)], width=1, fill= 128)\n",
    "    plt.imshow(img, cmap=\"gray\")"
   ]
  },
  {
   "cell_type": "code",
   "execution_count": 70,
   "metadata": {},
   "outputs": [
    {
     "name": "stdout",
     "output_type": "stream",
     "text": [
      "t_img.shape: torch.Size([1, 28, 56])\n"
     ]
    },
    {
     "data": {
      "image/png": "[encoded data removed]",
      "text/plain": [
       "<Figure size 432x288 with 1 Axes>"
      ]
     },
     "metadata": {
      "needs_background": "light"
     },
     "output_type": "display_data"
    }
   ],
   "source": [
    "mr = torch.load(\"test2/42_26_51.pt\")\n",
    "#print(ir)\n",
    "t_img = mr[\"multi_img\"]\n",
    "print(f\"t_img.shape: {t_img.shape}\")\n",
    "\n",
    "display_merge_lines(mr, model)"
   ]
  },
  {
   "cell_type": "code",
   "execution_count": 28,
   "metadata": {},
   "outputs": [
    {
     "name": "stdout",
     "output_type": "stream",
     "text": [
      "{'multi_img': tensor([[[0., 0., 0.,  ..., 0., 0., 0.],\n",
      "         [0., 0., 0.,  ..., 0., 0., 0.],\n",
      "         [0., 0., 0.,  ..., 0., 0., 0.],\n",
      "         ...,\n",
      "         [0., 0., 0.,  ..., 0., 0., 0.],\n",
      "         [0., 0., 0.,  ..., 0., 0., 0.],\n",
      "         [0., 0., 0.,  ..., 0., 0., 0.]]]), 'multi_img_label': '42', 'merge_points': tensor([26., 51.])}\n"
     ]
    }
   ],
   "source": [
    "mr = torch.load(\"test2/42_26_51.pt\")\n",
    "print(mr)\n"
   ]
  }
 ],
 "metadata": {
  "interpreter": {
   "hash": "3e3b78e97e18c72126c3c5b3e515c7ce053012eba14c4d1ae01d8c98942b8394"
  },
  "kernelspec": {
   "display_name": "Python 3.8.5 64-bit ('conenv_multiMnist': conda)",
   "language": "python",
   "name": "python3"
  },
  "language_info": {
   "codemirror_mode": {
    "name": "ipython",
    "version": 3
   },
   "file_extension": ".py",
   "mimetype": "text/x-python",
   "name": "python",
   "nbconvert_exporter": "python",
   "pygments_lexer": "ipython3",
   "version": "3.8.5"
  },
  "orig_nbformat": 4
 },
 "nbformat": 4,
 "nbformat_minor": 2
}
