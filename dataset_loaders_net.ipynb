{
 "cells": [
  {
   "cell_type": "code",
   "execution_count": 1,
   "metadata": {},
   "outputs": [],
   "source": [
    "import torch\n",
    "from torch.utils.data import Dataset\n",
    "import os\n",
    "\n"
   ]
  },
  {
   "cell_type": "code",
   "execution_count": 28,
   "metadata": {},
   "outputs": [],
   "source": [
    "class MultiDigitMNISTDataset(Dataset):\n",
    "    def __init__(self, source_dir, img_transform=None, label_transform=None, merge_point_transform=None):\n",
    "        self.source_dir = source_dir\n",
    "        self.img_transform = img_transform\n",
    "        self.label_transform = label_transform\n",
    "        self.merge_point_transform = merge_point_transform\n",
    "        \n",
    "        self.data_record_entries = []\n",
    "        cwd = os.getcwd()\n",
    "        self.source_path = os.path.join(cwd, self.source_dir)\n",
    "        with os.scandir(self.source_path) as it:\n",
    "            for entry in it:\n",
    "                if entry.is_file() and entry.name.endswith(\".pt\"):\n",
    "                    self.data_record_entries.append(entry)\n",
    "        \n",
    "        self.data_records = []\n",
    "    \n",
    "    def __len__(self):\n",
    "        return len(self.data_record_entries)\n",
    "    \n",
    "    def __getitem__(self, idx):\n",
    "        data_record = torch.load(os.path.join(self.source_path, self.data_record_entries[idx].name))\n",
    "        multi_img = data_record[\"multi_img\"]\n",
    "        multi_img_label = data_record[\"multi_img_label\"]\n",
    "        merge_points = data_record[\"merge_points\"]\n",
    "        if self.img_transform:\n",
    "            multi_img = self.img_transform(multi_img)\n",
    "        if self.label_transform:\n",
    "            multi_img_label = self.label_transform(multi_img_label) \n",
    "        if self.merge_point_transform:\n",
    "            merge_points = self.merge_point_transform(merge_points)\n",
    "        \n",
    "        return multi_img, multi_img_label, merge_points\n",
    "\n",
    "\n"
   ]
  },
  {
   "cell_type": "code",
   "execution_count": null,
   "metadata": {},
   "outputs": [],
   "source": [
    "from torch.utils.data import dataloader\n",
    "\n",
    "mmnist_ds = MultiDigitMNISTDataset(source_dir=\"Mnist4\")\n",
    "train_dl = Dataloader(mmnist_ds, batch_size=1)"
   ]
  }
 ],
 "metadata": {
  "interpreter": {
   "hash": "3e3b78e97e18c72126c3c5b3e515c7ce053012eba14c4d1ae01d8c98942b8394"
  },
  "kernelspec": {
   "display_name": "Python 3.8.5 64-bit ('conenv_multiMnist': conda)",
   "language": "python",
   "name": "python3"
  },
  "language_info": {
   "codemirror_mode": {
    "name": "ipython",
    "version": 3
   },
   "file_extension": ".py",
   "mimetype": "text/x-python",
   "name": "python",
   "nbconvert_exporter": "python",
   "pygments_lexer": "ipython3",
   "version": "3.8.5"
  },
  "orig_nbformat": 4
 },
 "nbformat": 4,
 "nbformat_minor": 2
}
