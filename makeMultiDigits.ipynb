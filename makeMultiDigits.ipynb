{
 "cells": [
  {
   "cell_type": "code",
   "execution_count": 7,
   "metadata": {},
   "outputs": [],
   "source": [
    "import torch\n",
    "from torch.utils.data import Dataset\n",
    "from torchvision import datasets\n",
    "from torchvision.transforms import ToTensor\n",
    "import matplotlib.pyplot as plt"
   ]
  },
  {
   "cell_type": "code",
   "execution_count": 8,
   "metadata": {},
   "outputs": [],
   "source": [
    "training_data = datasets.MNIST(\n",
    "    root=\"data\",\n",
    "    train=True,\n",
    "    download=True,\n",
    "    transform=ToTensor()\n",
    ")\n",
    "\n",
    "test_data = datasets.MNIST(\n",
    "    root = \"data\",\n",
    "    train = False,\n",
    "    download = True,\n",
    "    transform = ToTensor()\n",
    ")\n",
    "\n"
   ]
  },
  {
   "cell_type": "code",
   "execution_count": 9,
   "metadata": {},
   "outputs": [
    {
     "data": {
      "image/png": "[encoded data removed]",
      "text/plain": [
       "<Figure size 720x720 with 6 Axes>"
      ]
     },
     "metadata": {
      "needs_background": "light"
     },
     "output_type": "display_data"
    }
   ],
   "source": [
    "# look at some figures from the training_data:\n",
    "\n",
    "figure = plt.figure(figsize=(10, 10))\n",
    "rows, cols = 2, 3\n",
    "for i in range(1,cols * rows + 1):\n",
    "    sample_idx = torch.randint(len(training_data), size=(1,)).item()\n",
    "    img, label = training_data[sample_idx]\n",
    "    figure.add_subplot(rows, cols, i)\n",
    "    plt.title(label)\n",
    "    plt.axis=(\"off\")\n",
    "    plt.imshow(img.squeeze(), cmap=\"gray\")\n",
    "plt.show()"
   ]
  },
  {
   "cell_type": "code",
   "execution_count": 11,
   "metadata": {},
   "outputs": [],
   "source": [
    "\"\"\"\n",
    "    Glues Mnist-Image data fo 28 X 28 images to a multi-figure number.\n",
    "    The width of the images is randomly clipped before glueing to make it more alike a real hand written multi-cifer number.\n",
    "    \n",
    "    Input:\n",
    "        nof_cifers : number of figures in the output number\n",
    "        data : torch.dataset containing (image, label) - pairs\n",
    "    \n",
    "    Output:\n",
    "        returns :\n",
    "            multi_img : a torch tensor of the image of the glued numbers - size: [1, 28, nof_cifers X 28]\n",
    "            multi_img_label : a torch.int32 number glued from the individual labels\n",
    "            merge_points : a list of integers giving the x-coordinates of the points where the MNIST numbers where glued\n",
    "\"\"\"\n",
    "def merge_MNIST(data, nof_cifers=2):\n",
    "\n",
    "    # check for some bogus input:\n",
    "    #if nof_cifers == 1:\n",
    "    #    return data[0], data[1], [data[0].shape[1]]\n",
    "\n",
    "    #if len(data) == 1:\n",
    "    #    return data[0][0], data[0[1], [data[0][0].shape[1]]\n",
    "    \n",
    "    #if nof_cifers > len(data):\n",
    "    #    return data[0][0], data[0[1], [data[0][0].shape[1]]\n",
    "    \n",
    "    crop_height = 28\n",
    "    crop_images = []\n",
    "    labels = []\n",
    "    merge_points = []\n",
    "    merge_point = 0\n",
    "    nof_images = len(data)\n",
    "    # initialization of random generator:\n",
    "    for i in range(nof_cifers):\n",
    "        # chose random image:\n",
    "        sample_id = torch.randint(nof_images, size=(1,), dtype=torch.int32).item()\n",
    "        img, label = data[sample_id]\n",
    "        labels.append(label)\n",
    "        # chose random clipping parameters:\n",
    "        crop_left = torch.randint(8, size=(1,), dtype=torch.int32)\n",
    "        crop_width = torch.randint(20, 28, size=(1,), dtype= torch.int32)\n",
    "        crpimg= TT.functional.crop(img, top=0, left=crop_left, height=crop_height, width=crop_width)\n",
    "        # store clipped images for later merging:\n",
    "        crop_images.append(crpimg)\n",
    "        # store x-coordinate of merge-point:\n",
    "        merge_point = merge_point + crop_width.item()\n",
    "        merge_points.append(merge_point)\n",
    "        #plt.imshow(crpimg.squeeze(), cmap=\"gray\") # for debugging\n",
    "    \n",
    "    # fill image with black space to full dimensions:\n",
    "    black_fill = torch.zeros([1,28, nof_cifers * 28 - merge_points[-1]])\n",
    "    crop_images.append(black_fill)\n",
    "    multi_img = torch.cat(crop_images, dim = 2)\n",
    "    multi_img_label = \"\".join([str(j) for j in labels])\n",
    "    merge_points = torch.Tensor(merge_points)\n",
    "\n",
    "    return multi_img, multi_img_label, merge_points\n",
    "\n",
    "\n",
    "\n"
   ]
  },
  {
   "cell_type": "code",
   "execution_count": 14,
   "metadata": {},
   "outputs": [
    {
     "data": {
      "text/plain": [
       "<matplotlib.image.AxesImage at 0x1489e5864c0>"
      ]
     },
     "execution_count": 14,
     "metadata": {},
     "output_type": "execute_result"
    },
    {
     "data": {
      "image/png": "[encoded data removed]",
      "text/plain": [
       "<Figure size 432x288 with 1 Axes>"
      ]
     },
     "metadata": {
      "needs_background": "light"
     },
     "output_type": "display_data"
    }
   ],
   "source": [
    "# check the points, where the images are merged (\"merge_points\"), by drawing a grey vertical line:\n",
    "\n",
    "from PIL import ImageDraw # used to draw lines on an image\n",
    "\n",
    "multi_img, multi_img_label, merge_points = merge_MNIST(training_data, nof_cifers=2)\n",
    "im = TT.ToPILImage()(multi_img)\n",
    "draw = ImageDraw.Draw(im)\n",
    "for mp in merge_points:\n",
    "    draw.line([(mp, 0), (mp, 28)], width=1, fill=128)\n",
    "plt.title(merge_points)\n",
    "plt.imshow(im, cmap=\"gray\")"
   ]
  },
  {
   "cell_type": "code",
   "execution_count": 4,
   "metadata": {},
   "outputs": [],
   "source": [
    "import torchvision.transforms as TT\n",
    "from pathlib import Path, PureWindowsPath\n",
    "\n",
    "\n",
    "\"\"\"\n",
    "Generates and writes a given number of images-records of handwritten numbers, consisting of a given number of digits (ciphers) \n",
    "into a directory. \n",
    "A record is a dictionary with the following entries:\n",
    "record[\"multi_img\"] : image tensor glued from several Mnist images, \n",
    "record[\"multi_img_label\"] : multi label the number represented in the image, \n",
    "record[\"merge_points\"] : merge points' x-coordinates - the places where the images have been glued together\n",
    "The names of the images generated are for example:\n",
    "filename: \"1234\" + \"_26_48_75_97\" + \".pt\" for an image of the number \"1234\" and merge-points at 26, 48, 75, 97 pixels, counted from the left border.\n",
    "\n",
    "Input:\n",
    "    target_directory : directory to write the images into\n",
    "    number_of_ciphers : the number of digits an immage has to contain\n",
    "    number_of_records : the number of images generated an written in to the directory\n",
    "\n",
    "Output:\n",
    "    a number of image-records written into the directory.\n",
    "    An image-record is a dictionary with the structure:\n",
    "    record[\"multi_img\"] : image tensor, \n",
    "    record[\"multi_img_label\"] : multi label, \n",
    "    record[\"merge_points\"] : merge points x-coordinates\n",
    "\n",
    "    returns : \n",
    "        None\n",
    "\"\"\"\n",
    "def write_multi_records(target_directory, number_of_cifers, mumber_of_records):\n",
    "    target_dir = Path(target_directory)\n",
    "    target_dir.mkdir(exist_ok=True)\n",
    "    nof_cifers = number_of_cifers\n",
    "\n",
    "    # Write mumber_of_records samples into folder:\n",
    "    for i in range(mumber_of_records):\n",
    "        multi_img, multi_img_label, merge_points = merge_MNIST(training_data, nof_cifers=number_of_cifers)\n",
    "        multi_record = { \n",
    "            \"multi_img\": multi_img, \n",
    "            \"multi_img_label\" : multi_img_label, \n",
    "            \"merge_points\" : merge_points \n",
    "        }\n",
    "        # filename example: \"1234\" + \"_26_48_75_97\" + \".pt\" \n",
    "        multi_name = multi_img_label + \"_\" + \"_\".join([str(int(mp.item())) for mp in merge_points]) + \".pt\"\n",
    "        torch.save(multi_record, target_dir / multi_name)"
   ]
  },
  {
   "cell_type": "code",
   "execution_count": 71,
   "metadata": {},
   "outputs": [],
   "source": [
    "# test write_multi_records:\n",
    "\n",
    "write_multi_records(\"test2\", 2, 10)"
   ]
  },
  {
   "cell_type": "code",
   "execution_count": 21,
   "metadata": {},
   "outputs": [
    {
     "name": "stdout",
     "output_type": "stream",
     "text": [
      "{'multi_img': tensor([[[0., 0., 0.,  ..., 0., 0., 0.],\n",
      "         [0., 0., 0.,  ..., 0., 0., 0.],\n",
      "         [0., 0., 0.,  ..., 0., 0., 0.],\n",
      "         ...,\n",
      "         [0., 0., 0.,  ..., 0., 0., 0.],\n",
      "         [0., 0., 0.,  ..., 0., 0., 0.],\n",
      "         [0., 0., 0.,  ..., 0., 0., 0.]]]), 'multi_img_label': '77219', 'merge_points': tensor([ 22.,  44.,  67.,  89., 110.])}\n",
      "mr[\"multi_img\"].shape : torch.Size([1, 28, 140])\n",
      "merge_points: tensor([ 22.,  44.,  67.,  89., 110.])\n"
     ]
    },
    {
     "data": {
      "text/plain": [
       "<matplotlib.image.AxesImage at 0x1489e884b80>"
      ]
     },
     "execution_count": 21,
     "metadata": {},
     "output_type": "execute_result"
    },
    {
     "data": {
      "image/png": "[encoded data removed]",
      "text/plain": [
       "<Figure size 432x288 with 1 Axes>"
      ]
     },
     "metadata": {
      "needs_background": "light"
     },
     "output_type": "display_data"
    }
   ],
   "source": [
    "# load example:\n",
    "mr = torch.load(\"Mnist5_val/77219_22_44_67_89_110.pt\")\n",
    "print(mr)\n",
    "\n",
    "import torchvision.transforms as TT\n",
    "import matplotlib.pyplot as plt\n",
    "t_img = mr[\"multi_img\"]\n",
    "print(f\"mr[\\\"multi_img\\\"].shape : {t_img.shape}\")\n",
    "merge_points = mr[\"merge_points\"]\n",
    "print(f\"merge_points: {merge_points}\")\n",
    "img = TT.ToPILImage()(mr[\"multi_img\"])\n",
    "plt.title(mr[\"multi_img_label\"])\n",
    "draw = ImageDraw.Draw(img)\n",
    "for mp in merge_points:\n",
    "    draw.line([(mp, 0), (mp, 28)], width=1, fill=128)\n",
    "plt.imshow(img, cmap=\"gray\")"
   ]
  },
  {
   "cell_type": "code",
   "execution_count": 15,
   "metadata": {},
   "outputs": [],
   "source": [
    "# create directory for validation data : \"MnistX_val\", with 200 images of X digit numbers:\n",
    "\n",
    "number_of_cifers = 2\n",
    "\n",
    "val_target_directory = \"Mnist\" + str(number_of_cifers) + \"_val\"\n",
    "mumber_of_val_records = 200\n",
    "write_multi_records(val_target_directory, number_of_cifers, mumber_of_val_records)"
   ]
  },
  {
   "cell_type": "code",
   "execution_count": 74,
   "metadata": {},
   "outputs": [],
   "source": [
    "# creat directory for training data : \"MnistX_val\", with 1000 images of X digit numbers:\n",
    "\n",
    "number_of_cifers = 2\n",
    "\n",
    "train_target_directory = \"Mnist\" + str(number_of_cifers) +\"_train\"\n",
    "number_of_train_records = 1000\n",
    "write_multi_records(train_target_directory, number_of_cifers, number_of_train_records)"
   ]
  },
  {
   "cell_type": "code",
   "execution_count": 2,
   "metadata": {},
   "outputs": [
    {
     "name": "stdout",
     "output_type": "stream",
     "text": [
      "Mnist5_train\n"
     ]
    }
   ],
   "source": []
  }
 ],
 "metadata": {
  "interpreter": {
   "hash": "3e3b78e97e18c72126c3c5b3e515c7ce053012eba14c4d1ae01d8c98942b8394"
  },
  "kernelspec": {
   "display_name": "Python 3.8.5 64-bit ('conenv_multiMnist': conda)",
   "language": "python",
   "name": "python3"
  },
  "language_info": {
   "codemirror_mode": {
    "name": "ipython",
    "version": 3
   },
   "file_extension": ".py",
   "mimetype": "text/x-python",
   "name": "python",
   "nbconvert_exporter": "python",
   "pygments_lexer": "ipython3",
   "version": "3.8.5"
  },
  "orig_nbformat": 4
 },
 "nbformat": 4,
 "nbformat_minor": 2
}
